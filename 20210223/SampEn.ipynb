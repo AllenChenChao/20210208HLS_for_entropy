{
 "cells": [
  {
   "cell_type": "code",
   "execution_count": 1,
   "metadata": {},
   "outputs": [
    {
     "data": {
      "application/javascript": [
       "\n",
       "require(['notebook/js/codecell'], function(codecell) {\n",
       "  codecell.CodeCell.options_default.highlight_modes[\n",
       "      'magic_text/x-csrc'] = {'reg':[/^%%microblaze/]};\n",
       "  Jupyter.notebook.events.one('kernel_ready.Kernel', function(){\n",
       "      Jupyter.notebook.get_cells().map(function(cell){\n",
       "          if (cell.cell_type == 'code'){ cell.auto_highlight(); } }) ;\n",
       "  });\n",
       "});\n"
      ]
     },
     "metadata": {},
     "output_type": "display_data"
    }
   ],
   "source": [
    "from pynq import Overlay\n",
    "from pynq import Xlnk # replace with allocate for Pynq >= 2.7\n",
    "import numpy as np"
   ]
  },
  {
   "cell_type": "code",
   "execution_count": 2,
   "metadata": {},
   "outputs": [],
   "source": [
    "overlay = Overlay('/home/xilinx/jupyter_notebooks/TEST/Axi_SampEn/design_1.bit')\n",
    "sqrt_ip = overlay.axi4_sampen_0"
   ]
  },
  {
   "cell_type": "code",
   "execution_count": 3,
   "metadata": {},
   "outputs": [
    {
     "data": {
      "text/plain": [
       "[90, 60, 100, 95, 85, 70, 80, 110, 70]"
      ]
     },
     "execution_count": 3,
     "metadata": {},
     "output_type": "execute_result"
    }
   ],
   "source": [
    "ll = [3100,3280,3400,3600,3790,3960,4100,4260,4480,4620]\n",
    "data= [int(100*(ll[i]-ll[i-1])/200) for i in range(1,len(ll))]\n",
    "m = 2\n",
    "r = 20\n",
    "N = len(data)\n",
    "data"
   ]
  },
  {
   "cell_type": "code",
   "execution_count": 4,
   "metadata": {},
   "outputs": [],
   "source": [
    "length = len(data)\n",
    "inpt = Xlnk().cma_array(shape=(length,), dtype=np.float32)\n",
    "outpt = Xlnk().cma_array(shape=(length,), dtype=np.float32)\n",
    "a = data\n",
    "np.copyto(inpt, data)\n",
    "soft_op = np.sqrt(inpt)\n",
    "\n",
    "sqrt_ip.write(0x20, length)\n",
    "sqrt_ip.write(0x10, inpt.physical_address)\n",
    "sqrt_ip.write(0x18, outpt.physical_address)\n",
    "sqrt_ip.write(0x00, 1)"
   ]
  },
  {
   "cell_type": "code",
   "execution_count": 6,
   "metadata": {},
   "outputs": [
    {
     "name": "stdout",
     "output_type": "stream",
     "text": [
      "The value computed by HLS IP:\n",
      "0.223\n"
     ]
    }
   ],
   "source": [
    "print(\"The value computed by HLS IP:\")\n",
    "print((1/1000)*sqrt_ip.read(0x28))"
   ]
  },
  {
   "cell_type": "code",
   "execution_count": null,
   "metadata": {},
   "outputs": [],
   "source": []
  }
 ],
 "metadata": {
  "kernelspec": {
   "display_name": "Python 3",
   "language": "python",
   "name": "python3"
  },
  "language_info": {
   "codemirror_mode": {
    "name": "ipython",
    "version": 3
   },
   "file_extension": ".py",
   "mimetype": "text/x-python",
   "name": "python",
   "nbconvert_exporter": "python",
   "pygments_lexer": "ipython3",
   "version": "3.6.5"
  }
 },
 "nbformat": 4,
 "nbformat_minor": 2
}
