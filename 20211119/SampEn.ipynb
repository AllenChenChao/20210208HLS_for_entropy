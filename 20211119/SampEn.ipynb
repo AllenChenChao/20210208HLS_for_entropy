{
 "cells": [
  {
   "cell_type": "code",
   "execution_count": 1,
   "id": "34306af4-271e-48e0-ac22-30aeb4016fda",
   "metadata": {},
   "outputs": [],
   "source": [
    "import scipy.io as scio\n",
    "import numpy as np\n",
    "import math"
   ]
  },
  {
   "cell_type": "code",
   "execution_count": 3,
   "id": "2e3bd8cc-b1e4-4af4-b078-01f9bdb40ba5",
   "metadata": {},
   "outputs": [],
   "source": [
    "data = [90, 60, 100, 95, 85, 70, 80, 110, 70]\n",
    "data = [90, 60, 50, 95, 85, 70, 80, 110, 70]"
   ]
  },
  {
   "cell_type": "code",
   "execution_count": 7,
   "id": "7a9e93da-aaf6-43da-a1f1-67dcd807f2f9",
   "metadata": {},
   "outputs": [],
   "source": [
    "m = 2\n",
    "r = 0.2000000001\n",
    "#data = [0.1,0.2,0.3,0.4,0.5,0.6]#,0.7,0.8,0.9]\n",
    "N = len(data)\n",
    "r = 20   #use 100 times of original value, so we could use integer type data"
   ]
  },
  {
   "cell_type": "code",
   "execution_count": 8,
   "id": "67af9519-2793-47d9-9b7d-45737ee0374f",
   "metadata": {},
   "outputs": [
    {
     "data": {
      "text/plain": [
       "(1.6582280766035324, 0.25, 0.047619047619047616)"
      ]
     },
     "execution_count": 8,
     "metadata": {},
     "output_type": "execute_result"
    }
   ],
   "source": [
    "#data = [0.1,0.2,0.3,0.4,0.5,0.6,0.7,0.8,0.9,1.0,1.1,1.15]#,1.2,1.3,1.35]\n",
    "#data = [0.8,0.9,0.7,0.76,0.78,0.79]\n",
    "#data =  [-2.2907  ,  0.4626  ,  3.8283  ,  0.9417  ,  0.8600  ,  0.9760  ,  1.0460]\n",
    "'''software algorithm'''\n",
    "N = len(data)\n",
    "x1=[]\n",
    "x2 = []\n",
    "import math\n",
    "for i in range(N-m+1):\n",
    "    x1.append(list(data[i:i+m]))\n",
    "for i in range(N-m):\n",
    "    x2.append(list(data[i:i+m+1]))\n",
    "\n",
    "count1 = 0\n",
    "for i in range(N-m+1):\n",
    "    x1temp = np.array(x1[i])\n",
    "    for j in range(N-m+1):\n",
    "        if max(abs(x1temp-np.array(x1[j])))<=r:\n",
    "            count1 = count1+1\n",
    "    count1 = count1 - 1\n",
    "B = count1/((N-m)*(N-m+1))\n",
    "\n",
    "count2 = 0\n",
    "for i in range(N-m):\n",
    "    x2temp = np.array(x2[i])\n",
    "    for j in range(N-m):\n",
    "        if max(abs(x2temp-np.array(x2[j])))<=r:\n",
    "            count2 = count2+1\n",
    "    count2 = count2 - 1\n",
    "A = count2/((N-m-1)*(N-m))\n",
    "\n",
    "math.log(B/A),B,A"
   ]
  },
  {
   "cell_type": "code",
   "execution_count": 9,
   "id": "c7a12d78-92d3-4da3-91c8-716f4bbe2aab",
   "metadata": {},
   "outputs": [
    {
     "data": {
      "text/plain": [
       "(1.6582280766035324, 0.25, 0.047619047619047616, 14, 2)"
      ]
     },
     "execution_count": 9,
     "metadata": {},
     "output_type": "execute_result"
    }
   ],
   "source": [
    "#simulation for FPGA\n",
    "\n",
    "D = [[0 for i in range(len(data))] for j in range(len(data))]\n",
    "for i in range(len(data)):\n",
    "    for j in range(len(data)):\n",
    "        if abs(data[i]-data[j])<=r:\n",
    "            D[i][j] = 1\n",
    "count1 = 0\n",
    "for i in range(N-m+1):\n",
    "    for j in range(N-m+1):\n",
    "        count1 = count1 + (D[i][j] and D[i+1][j+1])\n",
    "count1 = count1 - N + m - 1\n",
    "B = count1/((N-m+1)*(N-m))\n",
    "count2 = 0\n",
    "for i in range(N-m):\n",
    "    for j in range(N-m):\n",
    "        count2 = count2 + (D[i][j] and D[i+1][j+1] and D[i+2][j+2])\n",
    "count2 = count2 - N+ m\n",
    "A = count2/((N-m)*(N-m-1))\n",
    "math.log(B/A),B,A,count1,count2"
   ]
  },
  {
   "cell_type": "code",
   "execution_count": null,
   "id": "a9d041e5-2029-49cb-b416-3a43c72d8043",
   "metadata": {},
   "outputs": [],
   "source": []
  },
  {
   "cell_type": "code",
   "execution_count": null,
   "id": "f59ee5ac-7561-4381-b0b7-ce0135064c50",
   "metadata": {},
   "outputs": [],
   "source": []
  },
  {
   "cell_type": "code",
   "execution_count": 10,
   "id": "e5bfbebd-b40a-412d-a275-e761ad8e6a3e",
   "metadata": {},
   "outputs": [],
   "source": [
    "#https://en.wikipedia.org/wiki/Sample_entropy\n",
    "import numpy as np\n",
    "\n",
    "def sampen(L, m, r):\n",
    "    N = len(L)\n",
    "    B = 0.0\n",
    "    A = 0.0\n",
    "    \n",
    "    \n",
    "    # Split time series and save all templates of length m\n",
    "    xmi = np.array([L[i : i + m] for i in range(N - m)])\n",
    "    xmj = np.array([L[i : i + m] for i in range(N - m + 1)])\n",
    "\n",
    "    # Save all matches minus the self-match, compute B\n",
    "    B = np.sum([np.sum(np.abs(xmii - xmj).max(axis=1) <= r) - 1 for xmii in xmi])\n",
    "\n",
    "    # Similar for computing A\n",
    "    m += 1\n",
    "    xm = np.array([L[i : i + m] for i in range(N - m + 1)])\n",
    "\n",
    "    A = np.sum([np.sum(np.abs(xmi - xm).max(axis=1) <= r) - 1 for xmi in xm])\n",
    "\n",
    "    # Return SampEn\n",
    "    return -np.log(A / B)"
   ]
  },
  {
   "cell_type": "code",
   "execution_count": null,
   "id": "d814bdfa-ca3f-4e23-a672-fb5027688f55",
   "metadata": {},
   "outputs": [],
   "source": []
  }
 ],
 "metadata": {
  "kernelspec": {
   "display_name": "Python 3",
   "language": "python",
   "name": "python3"
  },
  "language_info": {
   "codemirror_mode": {
    "name": "ipython",
    "version": 3
   },
   "file_extension": ".py",
   "mimetype": "text/x-python",
   "name": "python",
   "nbconvert_exporter": "python",
   "pygments_lexer": "ipython3",
   "version": "3.8.8"
  }
 },
 "nbformat": 4,
 "nbformat_minor": 5
}
